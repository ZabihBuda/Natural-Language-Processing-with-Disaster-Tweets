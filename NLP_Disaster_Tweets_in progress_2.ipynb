{
  "nbformat": 4,
  "nbformat_minor": 0,
  "metadata": {
    "colab": {
      "name": "Copy of NLP Disaster Tweets.ipynb",
      "provenance": [],
      "collapsed_sections": []
    },
    "kernelspec": {
      "name": "python3",
      "display_name": "Python 3"
    },
    "language_info": {
      "name": "python"
    }
  },
  "cells": [
    {
      "cell_type": "markdown",
      "metadata": {
        "id": "YBXkwAaTMJtP"
      },
      "source": [
        "Importing the Libraries"
      ]
    },
    {
      "cell_type": "code",
      "metadata": {
        "colab": {
          "base_uri": "https://localhost:8080/"
        },
        "id": "Mc6df7BRAFoy",
        "outputId": "540e40ed-74f2-4600-b163-0d86cfc5ec34"
      },
      "source": [
        "import pandas as pd\n",
        "import numpy as np\n",
        "import matplotlib.pyplot as plt\n",
        "import matplotlib.pyplot as plt\n",
        "import matplotlib.patches as mpatches\n",
        "import seaborn as sns \n",
        "import os\n",
        "\n",
        "from sklearn.feature_extraction.text import CountVectorizer, TfidfVectorizer\n",
        "from sklearn.model_selection import train_test_split\n",
        "from sklearn.decomposition import PCA, TruncatedSVD\n",
        "from sklearn.metrics import classification_report, confusion_matrix\n",
        "\n",
        "from wordcloud import WordCloud\n",
        "import nltk\n",
        "nltk.download('stopwords')\n",
        "from nltk.corpus import stopwords\n",
        "from nltk.util import ngrams\n",
        "\n",
        "from collections import defaultdict, Counter\n",
        "plt.style.use('ggplot')\n",
        "stop=set(stopwords.words('english'))\n",
        "\n",
        "import re\n",
        "from nltk.tokenize import word_tokenize\n",
        "import gensim\n",
        "import string\n",
        "\n",
        "from tqdm import tqdm\n",
        "from keras.preprocessing.text import Tokenizer\n",
        "from keras.preprocessing.sequence import pad_sequences\n",
        "from keras.models import Sequential\n",
        "from keras.layers import Embedding, LSTM, Dense, SpatialDropout1D, Dropout\n",
        "from keras.initializers import Constant\n",
        "from tensorflow.keras.optimizers import Adam\n",
        "\n"
      ],
      "execution_count": 158,
      "outputs": [
        {
          "output_type": "stream",
          "name": "stdout",
          "text": [
            "[nltk_data] Downloading package stopwords to /root/nltk_data...\n",
            "[nltk_data]   Package stopwords is already up-to-date!\n"
          ]
        }
      ]
    },
    {
      "cell_type": "markdown",
      "metadata": {
        "id": "uE6-kt4oLXvN"
      },
      "source": [
        "Let's import the datasets\n"
      ]
    },
    {
      "cell_type": "code",
      "metadata": {
        "colab": {
          "base_uri": "https://localhost:8080/"
        },
        "id": "nhLQX5AVBM33",
        "outputId": "976d4a63-1230-4423-b11b-af0c45233309"
      },
      "source": [
        "tweets=pd.read_csv('train.csv')\n",
        "test=pd.read_csv('test.csv')\n",
        "submission=pd.read_csv('sample_submission.csv')\n",
        "\n",
        "print('Tweets: ', tweets.shape)\n",
        "print('Test: ', test.shape)"
      ],
      "execution_count": 159,
      "outputs": [
        {
          "output_type": "stream",
          "name": "stdout",
          "text": [
            "Tweets:  (7613, 5)\n",
            "Test:  (3263, 4)\n"
          ]
        }
      ]
    },
    {
      "cell_type": "code",
      "metadata": {
        "colab": {
          "base_uri": "https://localhost:8080/",
          "height": 206
        },
        "id": "cxS99gelBTvw",
        "outputId": "559dfbbd-9310-49f5-bd17-7523a32d428d"
      },
      "source": [
        "tweets.head()\n"
      ],
      "execution_count": 160,
      "outputs": [
        {
          "output_type": "execute_result",
          "data": {
            "text/html": [
              "<div>\n",
              "<style scoped>\n",
              "    .dataframe tbody tr th:only-of-type {\n",
              "        vertical-align: middle;\n",
              "    }\n",
              "\n",
              "    .dataframe tbody tr th {\n",
              "        vertical-align: top;\n",
              "    }\n",
              "\n",
              "    .dataframe thead th {\n",
              "        text-align: right;\n",
              "    }\n",
              "</style>\n",
              "<table border=\"1\" class=\"dataframe\">\n",
              "  <thead>\n",
              "    <tr style=\"text-align: right;\">\n",
              "      <th></th>\n",
              "      <th>id</th>\n",
              "      <th>keyword</th>\n",
              "      <th>location</th>\n",
              "      <th>text</th>\n",
              "      <th>target</th>\n",
              "    </tr>\n",
              "  </thead>\n",
              "  <tbody>\n",
              "    <tr>\n",
              "      <th>0</th>\n",
              "      <td>1</td>\n",
              "      <td>NaN</td>\n",
              "      <td>NaN</td>\n",
              "      <td>Our Deeds are the Reason of this #earthquake M...</td>\n",
              "      <td>1</td>\n",
              "    </tr>\n",
              "    <tr>\n",
              "      <th>1</th>\n",
              "      <td>4</td>\n",
              "      <td>NaN</td>\n",
              "      <td>NaN</td>\n",
              "      <td>Forest fire near La Ronge Sask. Canada</td>\n",
              "      <td>1</td>\n",
              "    </tr>\n",
              "    <tr>\n",
              "      <th>2</th>\n",
              "      <td>5</td>\n",
              "      <td>NaN</td>\n",
              "      <td>NaN</td>\n",
              "      <td>All residents asked to 'shelter in place' are ...</td>\n",
              "      <td>1</td>\n",
              "    </tr>\n",
              "    <tr>\n",
              "      <th>3</th>\n",
              "      <td>6</td>\n",
              "      <td>NaN</td>\n",
              "      <td>NaN</td>\n",
              "      <td>13,000 people receive #wildfires evacuation or...</td>\n",
              "      <td>1</td>\n",
              "    </tr>\n",
              "    <tr>\n",
              "      <th>4</th>\n",
              "      <td>7</td>\n",
              "      <td>NaN</td>\n",
              "      <td>NaN</td>\n",
              "      <td>Just got sent this photo from Ruby #Alaska as ...</td>\n",
              "      <td>1</td>\n",
              "    </tr>\n",
              "  </tbody>\n",
              "</table>\n",
              "</div>"
            ],
            "text/plain": [
              "   id keyword  ...                                               text target\n",
              "0   1     NaN  ...  Our Deeds are the Reason of this #earthquake M...      1\n",
              "1   4     NaN  ...             Forest fire near La Ronge Sask. Canada      1\n",
              "2   5     NaN  ...  All residents asked to 'shelter in place' are ...      1\n",
              "3   6     NaN  ...  13,000 people receive #wildfires evacuation or...      1\n",
              "4   7     NaN  ...  Just got sent this photo from Ruby #Alaska as ...      1\n",
              "\n",
              "[5 rows x 5 columns]"
            ]
          },
          "metadata": {},
          "execution_count": 160
        }
      ]
    },
    {
      "cell_type": "code",
      "metadata": {
        "colab": {
          "base_uri": "https://localhost:8080/",
          "height": 206
        },
        "id": "reFV_vQYBlti",
        "outputId": "5d3a0d4f-e2c6-4ab7-fd87-271f2409a100"
      },
      "source": [
        "test.head()"
      ],
      "execution_count": 161,
      "outputs": [
        {
          "output_type": "execute_result",
          "data": {
            "text/html": [
              "<div>\n",
              "<style scoped>\n",
              "    .dataframe tbody tr th:only-of-type {\n",
              "        vertical-align: middle;\n",
              "    }\n",
              "\n",
              "    .dataframe tbody tr th {\n",
              "        vertical-align: top;\n",
              "    }\n",
              "\n",
              "    .dataframe thead th {\n",
              "        text-align: right;\n",
              "    }\n",
              "</style>\n",
              "<table border=\"1\" class=\"dataframe\">\n",
              "  <thead>\n",
              "    <tr style=\"text-align: right;\">\n",
              "      <th></th>\n",
              "      <th>id</th>\n",
              "      <th>keyword</th>\n",
              "      <th>location</th>\n",
              "      <th>text</th>\n",
              "    </tr>\n",
              "  </thead>\n",
              "  <tbody>\n",
              "    <tr>\n",
              "      <th>0</th>\n",
              "      <td>0</td>\n",
              "      <td>NaN</td>\n",
              "      <td>NaN</td>\n",
              "      <td>Just happened a terrible car crash</td>\n",
              "    </tr>\n",
              "    <tr>\n",
              "      <th>1</th>\n",
              "      <td>2</td>\n",
              "      <td>NaN</td>\n",
              "      <td>NaN</td>\n",
              "      <td>Heard about #earthquake is different cities, s...</td>\n",
              "    </tr>\n",
              "    <tr>\n",
              "      <th>2</th>\n",
              "      <td>3</td>\n",
              "      <td>NaN</td>\n",
              "      <td>NaN</td>\n",
              "      <td>there is a forest fire at spot pond, geese are...</td>\n",
              "    </tr>\n",
              "    <tr>\n",
              "      <th>3</th>\n",
              "      <td>9</td>\n",
              "      <td>NaN</td>\n",
              "      <td>NaN</td>\n",
              "      <td>Apocalypse lighting. #Spokane #wildfires</td>\n",
              "    </tr>\n",
              "    <tr>\n",
              "      <th>4</th>\n",
              "      <td>11</td>\n",
              "      <td>NaN</td>\n",
              "      <td>NaN</td>\n",
              "      <td>Typhoon Soudelor kills 28 in China and Taiwan</td>\n",
              "    </tr>\n",
              "  </tbody>\n",
              "</table>\n",
              "</div>"
            ],
            "text/plain": [
              "   id keyword location                                               text\n",
              "0   0     NaN      NaN                 Just happened a terrible car crash\n",
              "1   2     NaN      NaN  Heard about #earthquake is different cities, s...\n",
              "2   3     NaN      NaN  there is a forest fire at spot pond, geese are...\n",
              "3   9     NaN      NaN           Apocalypse lighting. #Spokane #wildfires\n",
              "4  11     NaN      NaN      Typhoon Soudelor kills 28 in China and Taiwan"
            ]
          },
          "metadata": {},
          "execution_count": 161
        }
      ]
    },
    {
      "cell_type": "markdown",
      "metadata": {
        "id": "MAwYSxWaOy4N"
      },
      "source": [
        "Let's find out the proportion of tweets for disaster and non-disaster"
      ]
    },
    {
      "cell_type": "code",
      "metadata": {
        "colab": {
          "base_uri": "https://localhost:8080/",
          "height": 555
        },
        "id": "3R4AmJJvMB6v",
        "outputId": "379f7f33-0cf7-42a7-cfed-eff51431c474"
      },
      "source": [
        "dis_nondis=tweets['target'].value_counts()\n",
        "plt.figure(figsize=(12, 8))\n",
        "sns.barplot(dis_nondis.index, dis_nondis.values)\n",
        "plt.ylabel('Count')\n",
        "plt.xlabel('Tweets')\n",
        "plt.show()"
      ],
      "execution_count": 162,
      "outputs": [
        {
          "output_type": "stream",
          "name": "stderr",
          "text": [
            "/usr/local/lib/python3.7/dist-packages/seaborn/_decorators.py:43: FutureWarning: Pass the following variables as keyword args: x, y. From version 0.12, the only valid positional argument will be `data`, and passing other arguments without an explicit keyword will result in an error or misinterpretation.\n",
            "  FutureWarning\n"
          ]
        },
        {
          "output_type": "display_data",
          "data": {
            "image/png": "[encoded data removed]",
            "text/plain": [
              "<Figure size 864x576 with 1 Axes>"
            ]
          },
          "metadata": {}
        }
      ]
    },
    {
      "cell_type": "markdown",
      "metadata": {
        "id": "V4wRoy9tPuRG"
      },
      "source": [
        "It seems like more than half of the tweets are non-disasters. To be specific, let's find out the exact numer for each one."
      ]
    },
    {
      "cell_type": "code",
      "metadata": {
        "colab": {
          "base_uri": "https://localhost:8080/"
        },
        "id": "ITYxW4BnPfBD",
        "outputId": "55723434-9c50-4256-d427-db79b637353a"
      },
      "source": [
        "dis=tweets[tweets['target']==1]\n",
        "nondis=tweets[tweets['target']==0]\n",
        "print('Disaster: ', dis.shape)\n",
        "print()\n",
        "print('Non-Disaster: ', nondis.shape)"
      ],
      "execution_count": 163,
      "outputs": [
        {
          "output_type": "stream",
          "name": "stdout",
          "text": [
            "Disaster:  (3271, 5)\n",
            "\n",
            "Non-Disaster:  (4342, 5)\n"
          ]
        }
      ]
    },
    {
      "cell_type": "markdown",
      "metadata": {
        "id": "-q2aRisxSF16"
      },
      "source": [
        "Here we can see the exact number of tweets that were really about a disaster. It means the number of tweets is not equal in the dataset which may affect our prediction later in this project. We can also look for the number of words and characters for each category. Let's find the number of word first."
      ]
    },
    {
      "cell_type": "code",
      "metadata": {
        "colab": {
          "base_uri": "https://localhost:8080/",
          "height": 356
        },
        "id": "K-i0j9O3QXSj",
        "outputId": "51c4b80e-72a9-432f-8f3b-f1ec33592fc1"
      },
      "source": [
        "fig, (ax1, ax2)=plt.subplots(1, 2, figsize=(10, 5))\n",
        "words_tweet=tweets[tweets['target']==1]['text'].str.split().map(lambda x: len(x))\n",
        "ax1.hist(words_tweet)\n",
        "ax1.set_title('Disaster tweets')\n",
        "plt.ylabel('Number of Tweets')\n",
        "words_tweet=tweets[tweets['target']==0]['text'].str.split().map(lambda x: len(x))\n",
        "ax2.hist(words_tweet, color='black')\n",
        "ax2.set_title('Non-Disaster tweets')\n",
        "plt.ylabel('Number of Tweets')\n",
        "fig.suptitle('Tweeter Words#')\n",
        "plt.show()\n"
      ],
      "execution_count": 164,
      "outputs": [
        {
          "output_type": "display_data",
          "data": {
            "image/png": "[encoded data removed]",
            "text/plain": [
              "<Figure size 720x360 with 2 Axes>"
            ]
          },
          "metadata": {}
        }
      ]
    },
    {
      "cell_type": "markdown",
      "metadata": {
        "id": "TdQ34H7C7lL1"
      },
      "source": [
        "We can also find the number of characters in disaster and non-disaster tweets"
      ]
    },
    {
      "cell_type": "code",
      "metadata": {
        "id": "oMDINybeVQzY",
        "colab": {
          "base_uri": "https://localhost:8080/",
          "height": 337
        },
        "outputId": "55de01fe-7468-499b-c863-db1ee2312240"
      },
      "source": [
        "fit, (ax1, ax2)=plt.subplots(1, 2, figsize=(10, 5))\n",
        "tweet_chr=tweets[tweets['target']==1]['text'].str.len()\n",
        "ax1.hist(tweet_chr)\n",
        "ax1.set_title('Disaster Tweets')\n",
        "tweet_chr=tweets[tweets['target']==0]['text'].str.len()\n",
        "ax2.hist(tweet_chr, color='blue')\n",
        "ax2.set_title('Non- Disaster Tweets')\n",
        "plt.show()"
      ],
      "execution_count": 165,
      "outputs": [
        {
          "output_type": "display_data",
          "data": {
            "image/png": "[encoded data removed]",
            "text/plain": [
              "<Figure size 720x360 with 2 Axes>"
            ]
          },
          "metadata": {}
        }
      ]
    },
    {
      "cell_type": "markdown",
      "metadata": {
        "id": "yR4SAw1K_6ZD"
      },
      "source": [
        "# Common Stopwords"
      ]
    },
    {
      "cell_type": "markdown",
      "metadata": {
        "id": "CFguA-84_DPt"
      },
      "source": [
        "THere is a lot common stopwords, sucha as a, the, them, will, and alike, that we don't need to use them when train our model. "
      ]
    },
    {
      "cell_type": "code",
      "metadata": {
        "id": "VJ1zMdm98n_u"
      },
      "source": [
        "def create_corpus(target):\n",
        "  corpus=[]\n",
        "  for x in tweets[tweets['target']==target]['text'].str.split():\n",
        "    for i in x:\n",
        "      corpus.append(i)\n",
        "  return corpus"
      ],
      "execution_count": 166,
      "outputs": []
    },
    {
      "cell_type": "markdown",
      "metadata": {
        "id": "Y1pW45v5A7pX"
      },
      "source": [
        "Let's find the number of common stopwords in disaster tweets, first."
      ]
    },
    {
      "cell_type": "code",
      "metadata": {
        "colab": {
          "base_uri": "https://localhost:8080/",
          "height": 377
        },
        "id": "lh6WluQnAp34",
        "outputId": "fa394b8b-aaf8-4810-8ace-809c83076a67"
      },
      "source": [
        "corpus=create_corpus(1)\n",
        "dic=defaultdict(int)\n",
        "for word in corpus:\n",
        "  if word in stop:\n",
        "    dic[word]+=1\n",
        "\n",
        "top_words=sorted(dic.items(), key=lambda x:x[1], reverse=True)[:20] #here we are looking to find out the top 20 common stopwords in disaster tweet\n",
        "fig=plt.figure(figsize=(20, 6))\n",
        "x, y=zip(*top_words)\n",
        "plt.bar(x, y)\n",
        "plt.xticks(rotation=90)"
      ],
      "execution_count": 167,
      "outputs": [
        {
          "output_type": "execute_result",
          "data": {
            "text/plain": [
              "([0, 1, 2, 3, 4, 5, 6, 7, 8, 9, 10, 11, 12, 13, 14, 15, 16, 17, 18, 19],\n",
              " <a list of 20 Text major ticklabel objects>)"
            ]
          },
          "metadata": {},
          "execution_count": 167
        },
        {
          "output_type": "display_data",
          "data": {
            "image/png": "[encoded data removed]",
            "text/plain": [
              "<Figure size 1440x432 with 1 Axes>"
            ]
          },
          "metadata": {}
        }
      ]
    },
    {
      "cell_type": "code",
      "metadata": {
        "colab": {
          "base_uri": "https://localhost:8080/"
        },
        "id": "lgqtXDUXBuNM",
        "outputId": "ea8b9b13-450c-4095-e434-e08afd9d3609"
      },
      "source": [
        "np.array(stop)# these are the stopwords"
      ],
      "execution_count": 168,
      "outputs": [
        {
          "output_type": "execute_result",
          "data": {
            "text/plain": [
              "array({'mightn', 'again', 'ain', 'other', \"haven't\", 'y', 'then', 'in', 'doesn', 'have', 'so', \"won't\", 'which', 'into', 'under', 'themselves', 'll', 'who', 'm', 'those', \"hasn't\", 'above', 'shan', 're', \"hadn't\", \"doesn't\", 'no', 'what', 'any', 'am', 'all', 'by', 'mustn', 'is', 'few', 'this', 'of', \"you'll\", \"mightn't\", 'ma', 'here', 'she', \"she's\", 'herself', 'he', \"couldn't\", 'their', \"you've\", 'on', 'does', 'through', 'up', 'at', 'they', \"shouldn't\", 'weren', 'hadn', 'aren', 'yourselves', 'having', 't', 'own', 'them', 'too', 'yourself', 'has', 'as', 'wouldn', 'there', 'was', 'once', 'because', 'isn', 'her', 've', 'before', 'very', 'now', 'same', 'can', 'about', 'did', 'him', 'for', 'd', 'or', 'while', 'such', 'were', \"wasn't\", 'to', \"isn't\", 'and', 'after', 'theirs', 'are', 'than', 'will', \"that'll\", 'me', 'been', 'it', 'more', 'had', 'with', 'against', 'we', 'be', 'where', 'wasn', \"should've\", \"you're\", 'during', 'should', 'not', 'out', 'why', 'below', 'couldn', 'off', \"mustn't\", 'when', 'if', 'a', 'further', 's', 'himself', 'just', 'ourselves', 'do', \"aren't\", \"needn't\", 'both', 'that', \"it's\", 'some', 'the', 'but', 'doing', 'between', \"you'd\", \"didn't\", 'how', 'your', \"shan't\", 'these', 'o', 'nor', 'haven', 'i', 'down', 'from', \"don't\", 'being', 'my', 'its', 'most', 'don', 'myself', 'won', 'didn', 'our', 'only', \"weren't\", 'needn', 'hers', 'itself', 'over', 'shouldn', 'you', 'his', 'yours', 'whom', 'hasn', 'until', 'each', 'ours', 'an', \"wouldn't\"},\n",
              "      dtype=object)"
            ]
          },
          "metadata": {},
          "execution_count": 168
        }
      ]
    },
    {
      "cell_type": "code",
      "metadata": {
        "colab": {
          "base_uri": "https://localhost:8080/",
          "height": 381
        },
        "id": "v4LZL8bNCjFH",
        "outputId": "30bf37de-9e2e-4e6a-c960-999104c7b06f"
      },
      "source": [
        "# Sopwords in Non-Disaster Tweets\n",
        "corpus=create_corpus(0)\n",
        "dic=defaultdict(int)\n",
        "for word in corpus:\n",
        "  if word in stop:\n",
        "    dic[word]+=1\n",
        "\n",
        "top_words=sorted(dic.items(), key=lambda x:x[1], reverse=True)[:20] #here we are looking to find out the top 20 common stopwords in disaster tweet\n",
        "fig=plt.figure(figsize=(20, 6))\n",
        "x, y=zip(*top_words)\n",
        "plt.bar(x, y, color='brown')\n",
        "plt.xticks(rotation=90)"
      ],
      "execution_count": 169,
      "outputs": [
        {
          "output_type": "execute_result",
          "data": {
            "text/plain": [
              "([0, 1, 2, 3, 4, 5, 6, 7, 8, 9, 10, 11, 12, 13, 14, 15, 16, 17, 18, 19],\n",
              " <a list of 20 Text major ticklabel objects>)"
            ]
          },
          "metadata": {},
          "execution_count": 169
        },
        {
          "output_type": "display_data",
          "data": {
            "image/png": "[encoded data removed]",
            "text/plain": [
              "<Figure size 1440x432 with 1 Axes>"
            ]
          },
          "metadata": {}
        }
      ]
    },
    {
      "cell_type": "markdown",
      "metadata": {
        "id": "p1OQ7HVp60J7"
      },
      "source": [
        "# **Data Cleaning**"
      ]
    },
    {
      "cell_type": "code",
      "metadata": {
        "colab": {
          "base_uri": "https://localhost:8080/",
          "height": 206
        },
        "id": "PSHVasaW5_Rn",
        "outputId": "50d3a89a-1e7e-4dc0-92b2-06e4ad803bee"
      },
      "source": [
        "tweets.head()\n"
      ],
      "execution_count": 170,
      "outputs": [
        {
          "output_type": "execute_result",
          "data": {
            "text/html": [
              "<div>\n",
              "<style scoped>\n",
              "    .dataframe tbody tr th:only-of-type {\n",
              "        vertical-align: middle;\n",
              "    }\n",
              "\n",
              "    .dataframe tbody tr th {\n",
              "        vertical-align: top;\n",
              "    }\n",
              "\n",
              "    .dataframe thead th {\n",
              "        text-align: right;\n",
              "    }\n",
              "</style>\n",
              "<table border=\"1\" class=\"dataframe\">\n",
              "  <thead>\n",
              "    <tr style=\"text-align: right;\">\n",
              "      <th></th>\n",
              "      <th>id</th>\n",
              "      <th>keyword</th>\n",
              "      <th>location</th>\n",
              "      <th>text</th>\n",
              "      <th>target</th>\n",
              "    </tr>\n",
              "  </thead>\n",
              "  <tbody>\n",
              "    <tr>\n",
              "      <th>0</th>\n",
              "      <td>1</td>\n",
              "      <td>NaN</td>\n",
              "      <td>NaN</td>\n",
              "      <td>Our Deeds are the Reason of this #earthquake M...</td>\n",
              "      <td>1</td>\n",
              "    </tr>\n",
              "    <tr>\n",
              "      <th>1</th>\n",
              "      <td>4</td>\n",
              "      <td>NaN</td>\n",
              "      <td>NaN</td>\n",
              "      <td>Forest fire near La Ronge Sask. Canada</td>\n",
              "      <td>1</td>\n",
              "    </tr>\n",
              "    <tr>\n",
              "      <th>2</th>\n",
              "      <td>5</td>\n",
              "      <td>NaN</td>\n",
              "      <td>NaN</td>\n",
              "      <td>All residents asked to 'shelter in place' are ...</td>\n",
              "      <td>1</td>\n",
              "    </tr>\n",
              "    <tr>\n",
              "      <th>3</th>\n",
              "      <td>6</td>\n",
              "      <td>NaN</td>\n",
              "      <td>NaN</td>\n",
              "      <td>13,000 people receive #wildfires evacuation or...</td>\n",
              "      <td>1</td>\n",
              "    </tr>\n",
              "    <tr>\n",
              "      <th>4</th>\n",
              "      <td>7</td>\n",
              "      <td>NaN</td>\n",
              "      <td>NaN</td>\n",
              "      <td>Just got sent this photo from Ruby #Alaska as ...</td>\n",
              "      <td>1</td>\n",
              "    </tr>\n",
              "  </tbody>\n",
              "</table>\n",
              "</div>"
            ],
            "text/plain": [
              "   id keyword  ...                                               text target\n",
              "0   1     NaN  ...  Our Deeds are the Reason of this #earthquake M...      1\n",
              "1   4     NaN  ...             Forest fire near La Ronge Sask. Canada      1\n",
              "2   5     NaN  ...  All residents asked to 'shelter in place' are ...      1\n",
              "3   6     NaN  ...  13,000 people receive #wildfires evacuation or...      1\n",
              "4   7     NaN  ...  Just got sent this photo from Ruby #Alaska as ...      1\n",
              "\n",
              "[5 rows x 5 columns]"
            ]
          },
          "metadata": {},
          "execution_count": 170
        }
      ]
    },
    {
      "cell_type": "code",
      "metadata": {
        "colab": {
          "base_uri": "https://localhost:8080/"
        },
        "id": "hUwwKxxZhW75",
        "outputId": "3e606bf8-4605-48c4-ffee-663ca94df566"
      },
      "source": [
        "tweets.dtypes"
      ],
      "execution_count": 171,
      "outputs": [
        {
          "output_type": "execute_result",
          "data": {
            "text/plain": [
              "id           int64\n",
              "keyword     object\n",
              "location    object\n",
              "text        object\n",
              "target       int64\n",
              "dtype: object"
            ]
          },
          "metadata": {},
          "execution_count": 171
        }
      ]
    },
    {
      "cell_type": "markdown",
      "metadata": {
        "id": "YsYCIcK271fU"
      },
      "source": [
        "The tweets dataframe needs a lot of cleaning. We need tp remove the punctuations, html, url, emojies, and make spelling correction. We can do the cleaning on each dataframe, tweets and test, separately. "
      ]
    },
    {
      "cell_type": "code",
      "metadata": {
        "id": "gp5DPCYUAuRe"
      },
      "source": [
        "# Let's create functions to remove the urls, htmls, emojis, punctuations, and correct the spelling issues in both dataframes. \n",
        "\n",
        "\n",
        "def remove_url(text):\n",
        "  url=re.compile(r'https?://\\S+|www\\.\\S+')\n",
        "  return url.sub(r'', text)\n",
        "\n",
        "def remove_html(text):\n",
        "  html=re.compile(r'<.*?>')\n",
        "  return html.sub(r'', text)\n",
        "  \n",
        "def remove_emoji(text):\n",
        "  emojis=re.compile(\"[\"\n",
        "                           u\"\\U0001F600-\\U0001F64F\"  # emoticons\n",
        "                           u\"\\U0001F300-\\U0001F5FF\"  # symbols & pictographs\n",
        "                           u\"\\U0001F680-\\U0001F6FF\"  # transport & map symbols\n",
        "                           u\"\\U0001F1E0-\\U0001F1FF\"  # flags (iOS)\n",
        "                           u\"\\U00002702-\\U000027B0\"\n",
        "                           u\"\\U000024C2-\\U0001F251\"\n",
        "                           \"]+\", flags=re.UNICODE)\n",
        "  return emojis.sub(r'', text)\n",
        "  \n",
        "def remove_punctuations(text):\n",
        "  punctuations=str.maketrans('','',string.punctuation)\n",
        "  return text.translate(punctuations)\n",
        "\n",
        "def correct_spellings(text):\n",
        "  \n",
        "  import spellchecker\n",
        "  from spellchecker import SpellChecker\n",
        "  spell=SpellChecker()\n",
        "\n",
        "  corrected_text=[]\n",
        "  misspelled_words=spell.unknown(text.split())\n",
        "  for word in text.split():\n",
        "    if word in misspelled_words:\n",
        "      corrected_text.append(spell.correction(word))\n",
        "    else:\n",
        "      corrected_text.append(word)\n",
        "  return \" \".join(corrected_text)\n",
        "\n",
        "# Applying the functions on Tweets dataframe\n",
        "tweets['text']=tweets['text'].apply(lambda x: remove_url(x))\n",
        "tweets['text']=tweets['text'].apply(lambda x: remove_html(x))\n",
        "tweets['text']=tweets['text'].apply(lambda x: remove_emoji(x))\n",
        "tweets['text']=tweets['text'].apply(lambda x: remove_punctuations(x))\n",
        "tweets['text']=tweets['text'].apply(lambda x: correct_spellings(x))\n",
        "\n",
        "#Applying the functions on Test dataframe\n",
        "test['text']=test['text'].apply(lambda x: remove_url(x))\n",
        "test['text']=test['text'].apply(lambda x: remove_html(x))\n",
        "test['text']=test['text'].apply(lambda x: remove_emoji(x))\n",
        "test['text']=test['text'].apply(lambda x: remove_punctuations(x))\n",
        "test['text']=test['text'].apply(lambda x: correct_spellings(x))"
      ],
      "execution_count": 172,
      "outputs": []
    },
    {
      "cell_type": "code",
      "metadata": {
        "colab": {
          "base_uri": "https://localhost:8080/"
        },
        "id": "siOShDyvAuWZ",
        "outputId": "96034761-3d5e-42d6-b1d5-e3f560037430"
      },
      "source": [
        "print(tweets.head())\n",
        "print()\n",
        "print(test.head())\n"
      ],
      "execution_count": 173,
      "outputs": [
        {
          "output_type": "stream",
          "name": "stdout",
          "text": [
            "   id keyword  ...                                               text target\n",
            "0   1     NaN  ...  Our Deeds are the Reason of this earthquake Ma...      1\n",
            "1   4     NaN  ...              Forest fire near La Ronge Sask Canada      1\n",
            "2   5     NaN  ...  All residents asked to shelter in place are be...      1\n",
            "3   6     NaN  ...  13000 people receive wildfires evacuation orde...      1\n",
            "4   7     NaN  ...  Just got sent this photo from Ruby Alaska as s...      1\n",
            "\n",
            "[5 rows x 5 columns]\n",
            "\n",
            "   id keyword location                                               text\n",
            "0   0     NaN      NaN                 Just happened a terrible car crash\n",
            "1   2     NaN      NaN  Heard about earthquake is different cities sta...\n",
            "2   3     NaN      NaN  there is a forest fire at spot pond geese are ...\n",
            "3   9     NaN      NaN              Apocalypse lighting Spokane wildfires\n",
            "4  11     NaN      NaN      Typhoon Soudelor kills 28 in China and Taiwan\n"
          ]
        }
      ]
    },
    {
      "cell_type": "code",
      "metadata": {
        "colab": {
          "base_uri": "https://localhost:8080/"
        },
        "id": "tUOUIQgj8zjB",
        "outputId": "3315142f-c34e-4558-dfb4-4099daaf0432"
      },
      "source": [
        "\n",
        "print('tweets: ', tweets.isnull().sum())\n",
        "print()\n",
        "print('test: ', test.isnull().sum())"
      ],
      "execution_count": 174,
      "outputs": [
        {
          "output_type": "stream",
          "name": "stdout",
          "text": [
            "tweets:  id             0\n",
            "keyword       61\n",
            "location    2533\n",
            "text           0\n",
            "target         0\n",
            "dtype: int64\n",
            "\n",
            "test:  id             0\n",
            "keyword       26\n",
            "location    1105\n",
            "text           0\n",
            "dtype: int64\n"
          ]
        }
      ]
    },
    {
      "cell_type": "code",
      "metadata": {
        "id": "oWvSQCPLZdCX"
      },
      "source": [
        "#let's drop the location and id columns\n",
        "df=df.drop('location', axis=1)\n",
        "df=df.drop('id', axis=1)\n",
        "df.head()"
      ],
      "execution_count": null,
      "outputs": []
    },
    {
      "cell_type": "markdown",
      "metadata": {
        "id": "WQBIX4OiaUVu"
      },
      "source": [
        "We can also see that the Keyword column has missing values. First, we need to see how many missing values it has. If the number of missing values is small, we can remove the rows with missing vlaues and use the rest to train our model, but if a large number is missing in this column, then it is better to drop an entire column. Fortunately, we see from above cells that only 61 rows have missling values in Keyword colums in tweets dataframe and another 26 missing in test. so we drop the rows here. "
      ]
    },
    {
      "cell_type": "code",
      "metadata": {
        "id": "vVePlpk0bhNT"
      },
      "source": [
        "tweets=tweets.dropna()\n",
        "test=test.dropna()"
      ],
      "execution_count": 175,
      "outputs": []
    },
    {
      "cell_type": "code",
      "metadata": {
        "id": "RzJ4NBNKgyR6"
      },
      "source": [
        ""
      ],
      "execution_count": null,
      "outputs": []
    }
  ]
}